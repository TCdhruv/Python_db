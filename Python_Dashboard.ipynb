{
 "cells": [
  {
   "cell_type": "code",
   "execution_count": 1,
   "id": "d193b817-a6d6-4a87-91c6-a0a1f781b682",
   "metadata": {},
   "outputs": [
    {
     "name": "stdout",
     "output_type": "stream",
     "text": [
      "Note: you may need to restart the kernel to use updated packages.Requirement already satisfied: dash in e:\\python\\lib\\site-packages (2.18.2)\n",
      "Requirement already satisfied: jupyter-dash in e:\\python\\lib\\site-packages (0.4.2)\n",
      "Requirement already satisfied: Flask<3.1,>=1.0.4 in e:\\python\\lib\\site-packages (from dash) (3.0.3)\n",
      "Requirement already satisfied: Werkzeug<3.1 in e:\\python\\lib\\site-packages (from dash) (3.0.3)\n",
      "Requirement already satisfied: plotly>=5.0.0 in e:\\python\\lib\\site-packages (from dash) (5.24.1)\n",
      "Requirement already satisfied: dash-html-components==2.0.0 in e:\\python\\lib\\site-packages (from dash) (2.0.0)\n",
      "Requirement already satisfied: dash-core-components==2.0.0 in e:\\python\\lib\\site-packages (from dash) (2.0.0)\n",
      "Requirement already satisfied: dash-table==5.0.0 in e:\\python\\lib\\site-packages (from dash) (5.0.0)\n",
      "Requirement already satisfied: importlib-metadata in e:\\python\\lib\\site-packages (from dash) (7.0.1)\n",
      "Requirement already satisfied: typing-extensions>=4.1.1 in e:\\python\\lib\\site-packages (from dash) (4.11.0)\n",
      "Requirement already satisfied: requests in e:\\python\\lib\\site-packages (from dash) (2.27.1)\n",
      "Requirement already satisfied: retrying in e:\\python\\lib\\site-packages (from dash) (1.3.4)\n",
      "Requirement already satisfied: nest-asyncio in e:\\python\\lib\\site-packages (from dash) (1.6.0)\n",
      "Requirement already satisfied: setuptools in e:\\python\\lib\\site-packages (from dash) (75.1.0)\n",
      "Requirement already satisfied: ipython in e:\\python\\lib\\site-packages (from jupyter-dash) (8.27.0)\n",
      "Requirement already satisfied: ipykernel in e:\\python\\lib\\site-packages (from jupyter-dash) (6.28.0)\n",
      "Requirement already satisfied: ansi2html in e:\\python\\lib\\site-packages (from jupyter-dash) (1.9.2)\n",
      "Requirement already satisfied: Jinja2>=3.1.2 in e:\\python\\lib\\site-packages (from Flask<3.1,>=1.0.4->dash) (3.1.4)\n",
      "Requirement already satisfied: itsdangerous>=2.1.2 in e:\\python\\lib\\site-packages (from Flask<3.1,>=1.0.4->dash) (2.2.0)\n",
      "Requirement already satisfied: click>=8.1.3 in e:\\python\\lib\\site-packages (from Flask<3.1,>=1.0.4->dash) (8.1.7)\n",
      "Requirement already satisfied: blinker>=1.6.2 in e:\\python\\lib\\site-packages (from Flask<3.1,>=1.0.4->dash) (1.6.2)\n",
      "Requirement already satisfied: tenacity>=6.2.0 in e:\\python\\lib\\site-packages (from plotly>=5.0.0->dash) (8.2.3)\n",
      "Requirement already satisfied: packaging in e:\\python\\lib\\site-packages (from plotly>=5.0.0->dash) (24.1)\n",
      "Requirement already satisfied: MarkupSafe>=2.1.1 in e:\\python\\lib\\site-packages (from Werkzeug<3.1->dash) (2.1.3)\n",
      "Requirement already satisfied: zipp>=0.5 in e:\\python\\lib\\site-packages (from importlib-metadata->dash) (3.17.0)\n",
      "Requirement already satisfied: comm>=0.1.1 in e:\\python\\lib\\site-packages (from ipykernel->jupyter-dash) (0.2.1)\n",
      "Requirement already satisfied: debugpy>=1.6.5 in e:\\python\\lib\\site-packages (from ipykernel->jupyter-dash) (1.6.7)\n",
      "Requirement already satisfied: jupyter-client>=6.1.12 in e:\\python\\lib\\site-packages (from ipykernel->jupyter-dash) (8.6.0)\n",
      "Requirement already satisfied: jupyter-core!=5.0.*,>=4.12 in e:\\python\\lib\\site-packages (from ipykernel->jupyter-dash) (5.7.2)\n",
      "Requirement already satisfied: matplotlib-inline>=0.1 in e:\\python\\lib\\site-packages (from ipykernel->jupyter-dash) (0.1.6)\n",
      "Requirement already satisfied: psutil in e:\\python\\lib\\site-packages (from ipykernel->jupyter-dash) (5.9.0)\n",
      "Requirement already satisfied: pyzmq>=24 in e:\\python\\lib\\site-packages (from ipykernel->jupyter-dash) (25.1.2)\n",
      "Requirement already satisfied: tornado>=6.1 in e:\\python\\lib\\site-packages (from ipykernel->jupyter-dash) (6.4.1)\n",
      "Requirement already satisfied: traitlets>=5.4.0 in e:\\python\\lib\\site-packages (from ipykernel->jupyter-dash) (5.14.3)\n",
      "Requirement already satisfied: decorator in e:\\python\\lib\\site-packages (from ipython->jupyter-dash) (5.1.1)\n",
      "Requirement already satisfied: jedi>=0.16 in e:\\python\\lib\\site-packages (from ipython->jupyter-dash) (0.19.1)\n",
      "Requirement already satisfied: prompt-toolkit<3.1.0,>=3.0.41 in e:\\python\\lib\\site-packages (from ipython->jupyter-dash) (3.0.43)\n",
      "Requirement already satisfied: pygments>=2.4.0 in e:\\python\\lib\\site-packages (from ipython->jupyter-dash) (2.15.1)\n",
      "Requirement already satisfied: stack-data in e:\\python\\lib\\site-packages (from ipython->jupyter-dash) (0.2.0)\n",
      "Requirement already satisfied: colorama in e:\\python\\lib\\site-packages (from ipython->jupyter-dash) (0.4.6)\n",
      "Requirement already satisfied: urllib3<1.27,>=1.21.1 in e:\\python\\lib\\site-packages (from requests->dash) (1.26.20)\n",
      "Requirement already satisfied: certifi>=2017.4.17 in e:\\python\\lib\\site-packages (from requests->dash) (2025.1.31)\n",
      "Requirement already satisfied: charset-normalizer~=2.0.0 in e:\\python\\lib\\site-packages (from requests->dash) (2.0.12)\n",
      "Requirement already satisfied: idna<4,>=2.5 in e:\\python\\lib\\site-packages (from requests->dash) (3.7)\n",
      "Requirement already satisfied: six>=1.7.0 in e:\\python\\lib\\site-packages (from retrying->dash) (1.16.0)\n",
      "Requirement already satisfied: parso<0.9.0,>=0.8.3 in e:\\python\\lib\\site-packages (from jedi>=0.16->ipython->jupyter-dash) (0.8.3)\n",
      "Requirement already satisfied: python-dateutil>=2.8.2 in e:\\python\\lib\\site-packages (from jupyter-client>=6.1.12->ipykernel->jupyter-dash) (2.9.0.post0)\n",
      "Requirement already satisfied: platformdirs>=2.5 in e:\\python\\lib\\site-packages (from jupyter-core!=5.0.*,>=4.12->ipykernel->jupyter-dash) (3.10.0)\n",
      "Requirement already satisfied: pywin32>=300 in e:\\python\\lib\\site-packages (from jupyter-core!=5.0.*,>=4.12->ipykernel->jupyter-dash) (305.1)\n",
      "Requirement already satisfied: wcwidth in e:\\python\\lib\\site-packages (from prompt-toolkit<3.1.0,>=3.0.41->ipython->jupyter-dash) (0.2.5)\n",
      "Requirement already satisfied: executing in e:\\python\\lib\\site-packages (from stack-data->ipython->jupyter-dash) (0.8.3)\n",
      "Requirement already satisfied: asttokens in e:\\python\\lib\\site-packages (from stack-data->ipython->jupyter-dash) (2.0.5)\n",
      "Requirement already satisfied: pure-eval in e:\\python\\lib\\site-packages (from stack-data->ipython->jupyter-dash) (0.2.2)\n",
      "\n"
     ]
    }
   ],
   "source": [
    "pip install dash jupyter-dash"
   ]
  },
  {
   "cell_type": "code",
   "execution_count": 2,
   "id": "dc5d8807-ee37-48ea-acc9-c4d99bbb9f2e",
   "metadata": {},
   "outputs": [
    {
     "name": "stdout",
     "output_type": "stream",
     "text": [
      "Requirement already satisfied: pandas in e:\\python\\lib\\site-packages (2.2.2)Note: you may need to restart the kernel to use updated packages.\n",
      "\n",
      "Requirement already satisfied: plotly in e:\\python\\lib\\site-packages (5.24.1)\n",
      "Requirement already satisfied: dash in e:\\python\\lib\\site-packages (2.18.2)\n",
      "Requirement already satisfied: openpyxl in e:\\python\\lib\\site-packages (3.1.5)\n",
      "Requirement already satisfied: numpy>=1.26.0 in e:\\python\\lib\\site-packages (from pandas) (1.26.4)\n",
      "Requirement already satisfied: python-dateutil>=2.8.2 in e:\\python\\lib\\site-packages (from pandas) (2.9.0.post0)\n",
      "Requirement already satisfied: pytz>=2020.1 in e:\\python\\lib\\site-packages (from pandas) (2024.1)\n",
      "Requirement already satisfied: tzdata>=2022.7 in e:\\python\\lib\\site-packages (from pandas) (2023.3)\n",
      "Requirement already satisfied: tenacity>=6.2.0 in e:\\python\\lib\\site-packages (from plotly) (8.2.3)\n",
      "Requirement already satisfied: packaging in e:\\python\\lib\\site-packages (from plotly) (24.1)\n",
      "Requirement already satisfied: Flask<3.1,>=1.0.4 in e:\\python\\lib\\site-packages (from dash) (3.0.3)\n",
      "Requirement already satisfied: Werkzeug<3.1 in e:\\python\\lib\\site-packages (from dash) (3.0.3)\n",
      "Requirement already satisfied: dash-html-components==2.0.0 in e:\\python\\lib\\site-packages (from dash) (2.0.0)\n",
      "Requirement already satisfied: dash-core-components==2.0.0 in e:\\python\\lib\\site-packages (from dash) (2.0.0)\n",
      "Requirement already satisfied: dash-table==5.0.0 in e:\\python\\lib\\site-packages (from dash) (5.0.0)\n",
      "Requirement already satisfied: importlib-metadata in e:\\python\\lib\\site-packages (from dash) (7.0.1)\n",
      "Requirement already satisfied: typing-extensions>=4.1.1 in e:\\python\\lib\\site-packages (from dash) (4.11.0)\n",
      "Requirement already satisfied: requests in e:\\python\\lib\\site-packages (from dash) (2.27.1)\n",
      "Requirement already satisfied: retrying in e:\\python\\lib\\site-packages (from dash) (1.3.4)\n",
      "Requirement already satisfied: nest-asyncio in e:\\python\\lib\\site-packages (from dash) (1.6.0)\n",
      "Requirement already satisfied: setuptools in e:\\python\\lib\\site-packages (from dash) (75.1.0)\n",
      "Requirement already satisfied: et-xmlfile in e:\\python\\lib\\site-packages (from openpyxl) (1.1.0)\n",
      "Requirement already satisfied: Jinja2>=3.1.2 in e:\\python\\lib\\site-packages (from Flask<3.1,>=1.0.4->dash) (3.1.4)\n",
      "Requirement already satisfied: itsdangerous>=2.1.2 in e:\\python\\lib\\site-packages (from Flask<3.1,>=1.0.4->dash) (2.2.0)\n",
      "Requirement already satisfied: click>=8.1.3 in e:\\python\\lib\\site-packages (from Flask<3.1,>=1.0.4->dash) (8.1.7)\n",
      "Requirement already satisfied: blinker>=1.6.2 in e:\\python\\lib\\site-packages (from Flask<3.1,>=1.0.4->dash) (1.6.2)\n",
      "Requirement already satisfied: six>=1.5 in e:\\python\\lib\\site-packages (from python-dateutil>=2.8.2->pandas) (1.16.0)\n",
      "Requirement already satisfied: MarkupSafe>=2.1.1 in e:\\python\\lib\\site-packages (from Werkzeug<3.1->dash) (2.1.3)\n",
      "Requirement already satisfied: zipp>=0.5 in e:\\python\\lib\\site-packages (from importlib-metadata->dash) (3.17.0)\n",
      "Requirement already satisfied: urllib3<1.27,>=1.21.1 in e:\\python\\lib\\site-packages (from requests->dash) (1.26.20)\n",
      "Requirement already satisfied: certifi>=2017.4.17 in e:\\python\\lib\\site-packages (from requests->dash) (2025.1.31)\n",
      "Requirement already satisfied: charset-normalizer~=2.0.0 in e:\\python\\lib\\site-packages (from requests->dash) (2.0.12)\n",
      "Requirement already satisfied: idna<4,>=2.5 in e:\\python\\lib\\site-packages (from requests->dash) (3.7)\n",
      "Requirement already satisfied: colorama in e:\\python\\lib\\site-packages (from click>=8.1.3->Flask<3.1,>=1.0.4->dash) (0.4.6)\n"
     ]
    }
   ],
   "source": [
    "pip install pandas plotly dash openpyxl"
   ]
  },
  {
   "cell_type": "code",
   "execution_count": 3,
   "id": "acc188ce-1b24-43f3-ae9f-2d73f200db49",
   "metadata": {},
   "outputs": [
    {
     "name": "stdout",
     "output_type": "stream",
     "text": [
      "Requirement already satisfied: pandas in e:\\python\\lib\\site-packages (2.2.2)Note: you may need to restart the kernel to use updated packages.\n",
      "\n",
      "Requirement already satisfied: openpyxl in e:\\python\\lib\\site-packages (3.1.5)\n",
      "Requirement already satisfied: dash in e:\\python\\lib\\site-packages (2.18.2)\n",
      "Requirement already satisfied: numpy>=1.26.0 in e:\\python\\lib\\site-packages (from pandas) (1.26.4)\n",
      "Requirement already satisfied: python-dateutil>=2.8.2 in e:\\python\\lib\\site-packages (from pandas) (2.9.0.post0)\n",
      "Requirement already satisfied: pytz>=2020.1 in e:\\python\\lib\\site-packages (from pandas) (2024.1)\n",
      "Requirement already satisfied: tzdata>=2022.7 in e:\\python\\lib\\site-packages (from pandas) (2023.3)\n",
      "Requirement already satisfied: et-xmlfile in e:\\python\\lib\\site-packages (from openpyxl) (1.1.0)\n",
      "Requirement already satisfied: Flask<3.1,>=1.0.4 in e:\\python\\lib\\site-packages (from dash) (3.0.3)\n",
      "Requirement already satisfied: Werkzeug<3.1 in e:\\python\\lib\\site-packages (from dash) (3.0.3)\n",
      "Requirement already satisfied: plotly>=5.0.0 in e:\\python\\lib\\site-packages (from dash) (5.24.1)\n",
      "Requirement already satisfied: dash-html-components==2.0.0 in e:\\python\\lib\\site-packages (from dash) (2.0.0)\n",
      "Requirement already satisfied: dash-core-components==2.0.0 in e:\\python\\lib\\site-packages (from dash) (2.0.0)\n",
      "Requirement already satisfied: dash-table==5.0.0 in e:\\python\\lib\\site-packages (from dash) (5.0.0)\n",
      "Requirement already satisfied: importlib-metadata in e:\\python\\lib\\site-packages (from dash) (7.0.1)\n",
      "Requirement already satisfied: typing-extensions>=4.1.1 in e:\\python\\lib\\site-packages (from dash) (4.11.0)\n",
      "Requirement already satisfied: requests in e:\\python\\lib\\site-packages (from dash) (2.27.1)\n",
      "Requirement already satisfied: retrying in e:\\python\\lib\\site-packages (from dash) (1.3.4)\n",
      "Requirement already satisfied: nest-asyncio in e:\\python\\lib\\site-packages (from dash) (1.6.0)\n",
      "Requirement already satisfied: setuptools in e:\\python\\lib\\site-packages (from dash) (75.1.0)\n",
      "Requirement already satisfied: Jinja2>=3.1.2 in e:\\python\\lib\\site-packages (from Flask<3.1,>=1.0.4->dash) (3.1.4)\n",
      "Requirement already satisfied: itsdangerous>=2.1.2 in e:\\python\\lib\\site-packages (from Flask<3.1,>=1.0.4->dash) (2.2.0)\n",
      "Requirement already satisfied: click>=8.1.3 in e:\\python\\lib\\site-packages (from Flask<3.1,>=1.0.4->dash) (8.1.7)\n",
      "Requirement already satisfied: blinker>=1.6.2 in e:\\python\\lib\\site-packages (from Flask<3.1,>=1.0.4->dash) (1.6.2)\n",
      "Requirement already satisfied: tenacity>=6.2.0 in e:\\python\\lib\\site-packages (from plotly>=5.0.0->dash) (8.2.3)\n",
      "Requirement already satisfied: packaging in e:\\python\\lib\\site-packages (from plotly>=5.0.0->dash) (24.1)\n",
      "Requirement already satisfied: six>=1.5 in e:\\python\\lib\\site-packages (from python-dateutil>=2.8.2->pandas) (1.16.0)\n",
      "Requirement already satisfied: MarkupSafe>=2.1.1 in e:\\python\\lib\\site-packages (from Werkzeug<3.1->dash) (2.1.3)\n",
      "Requirement already satisfied: zipp>=0.5 in e:\\python\\lib\\site-packages (from importlib-metadata->dash) (3.17.0)\n",
      "Requirement already satisfied: urllib3<1.27,>=1.21.1 in e:\\python\\lib\\site-packages (from requests->dash) (1.26.20)\n",
      "Requirement already satisfied: certifi>=2017.4.17 in e:\\python\\lib\\site-packages (from requests->dash) (2025.1.31)\n",
      "Requirement already satisfied: charset-normalizer~=2.0.0 in e:\\python\\lib\\site-packages (from requests->dash) (2.0.12)\n",
      "Requirement already satisfied: idna<4,>=2.5 in e:\\python\\lib\\site-packages (from requests->dash) (3.7)\n",
      "Requirement already satisfied: colorama in e:\\python\\lib\\site-packages (from click>=8.1.3->Flask<3.1,>=1.0.4->dash) (0.4.6)\n"
     ]
    }
   ],
   "source": [
    "pip install pandas openpyxl dash"
   ]
  },
  {
   "cell_type": "code",
   "execution_count": 4,
   "id": "0c0e8a46-6780-47d2-9508-2c8432d6696a",
   "metadata": {},
   "outputs": [
    {
     "name": "stdout",
     "output_type": "stream",
     "text": [
      "Requirement already satisfied: PyQvd in e:\\python\\lib\\site-packages (2.2.1)\n",
      "Requirement already satisfied: tabulate in e:\\python\\lib\\site-packages (from PyQvd) (0.9.0)\n",
      "Note: you may need to restart the kernel to use updated packages.\n"
     ]
    }
   ],
   "source": [
    "pip install PyQvd"
   ]
  },
  {
   "cell_type": "code",
   "execution_count": 5,
   "id": "454040c7-f3b0-4cc1-8196-2e16cad7c17d",
   "metadata": {},
   "outputs": [
    {
     "name": "stdout",
     "output_type": "stream",
     "text": [
      "Requirement already satisfied: qvd in e:\\python\\lib\\site-packages (0.0.15)Note: you may need to restart the kernel to use updated packages.\n",
      "\n"
     ]
    }
   ],
   "source": [
    "pip install qvd"
   ]
  },
  {
   "cell_type": "code",
   "execution_count": 6,
   "id": "35990e6c-6261-42a4-86ae-c22da5df5744",
   "metadata": {},
   "outputs": [
    {
     "name": "stdout",
     "output_type": "stream",
     "text": [
      "Requirement already satisfied: pyqlikengine in e:\\python\\lib\\site-packages (0.0.2)\n",
      "Requirement already satisfied: websocket-client>=0.47.0 in e:\\python\\lib\\site-packages (from pyqlikengine) (1.3.2)\n",
      "Note: you may need to restart the kernel to use updated packages.\n"
     ]
    }
   ],
   "source": [
    "pip install pyqlikengine"
   ]
  },
  {
   "cell_type": "code",
   "execution_count": 7,
   "id": "278a43ef-ffd5-4908-802d-cec1898f34d7",
   "metadata": {},
   "outputs": [],
   "source": [
    "import pandas as pd\n",
    "import plotly.graph_objects as go"
   ]
  },
  {
   "cell_type": "code",
   "execution_count": 8,
   "id": "f78332b1-259a-45b0-a063-46b74a7bc53c",
   "metadata": {},
   "outputs": [],
   "source": [
    "from pyqvd import QvdTable\n",
    "\n",
    "# Path to your QVD file\n",
    "qvd_file_path = 'BOOKING_REP22.qvd'\n",
    "\n",
    "# Load the QVD file\n",
    "qvd_table = QvdTable.from_qvd(qvd_file_path)"
   ]
  },
  {
   "cell_type": "code",
   "execution_count": 9,
   "id": "18312f74-7016-4871-a966-5926884aa383",
   "metadata": {},
   "outputs": [
    {
     "name": "stdout",
     "output_type": "stream",
     "text": [
      "  BOOKING_FILE_NO COMPANY_CODE  ZONE      BRANCH             BRANCH NAME  \\\n",
      "0      CFS2202544         SOTC    WB  SOWBKOLBAG        KOLKATA BAGUIATI   \n",
      "1      CFS2300094         SOTC    WB  SOWBKOLBAG        KOLKATA BAGUIATI   \n",
      "2      CFS2300208         SOTC  EBIZ  SOMHMUEBIZ              E-Business   \n",
      "3      CFS2300290         SOTC    KA  SOKABLRSMR    BANGALORE - ST MARKS   \n",
      "4      CFS2301004         SOTC    TN  SOTNMAANUG  CHENNAI - NUNGAMBAKKAM   \n",
      "5      CFS2301713         SOTC    WB  SOWBKOLBAG        KOLKATA BAGUIATI   \n",
      "6      CFS2302084         SOTC    MH  SOMAHMUMAD                 ANDHERI   \n",
      "7      CFS2302210         SOTC    TN  SOTMTRITTT                  TRICHY   \n",
      "8      CFS2302700         SOTC    DL     SODLPIT               PITAMPURA   \n",
      "9      CFS2303110         SOTC    DL     SODLMOD              MODEL TOWN   \n",
      "\n",
      "        CITY ASTRA BOOKING        CREATED BY        OWNER_NAME  \\\n",
      "0    KOLKATA            NO     Subhajit Jana     Subhajit Jana   \n",
      "1    KOLKATA            NO  Soaib Ahmed Khan  Soaib Ahmed Khan   \n",
      "2       Pune           YES      Ritika Verma      Ritika Verma   \n",
      "3  Bangalore           YES    Ruth Evangelin    Ruth Evangelin   \n",
      "4    CHENNAI            NO          Prabhu R          Prabhu R   \n",
      "5  BANGALORE            NO     MANSHRIA KAUR     MANSHRIA KAUR   \n",
      "6     MUMBAI            NO   Sarthak Bulsara   Sarthak Bulsara   \n",
      "7  CUDDALORE            NO     Hemanth Kumar     Hemanth Kumar   \n",
      "8   LUDHIANA            NO       Amit Kapoor       Amit Kapoor   \n",
      "9      DELHI            NO       Sachin Goel       Sachin Goel   \n",
      "\n",
      "            OWNER EMAIL ID  ... Cancellation Reason App_Downloaded  \\\n",
      "0    Subhajit.jana@sotc.in  ...                None             NO   \n",
      "1       Soaib.Khan@Sotc.in  ...                None             NO   \n",
      "2     Ritika.Verma@Sotc.in  ...                None             NO   \n",
      "3   Ruth.Evangelin@Sotc.in  ...                None             NO   \n",
      "4      prabhu.ravi@sotc.in  ...                None             NO   \n",
      "5   Manshria.Kaur2@Sotc.in  ...       PAX INCREASED             NO   \n",
      "6  Sarthak.Bulsara@Sotc.in  ...                None             NO   \n",
      "7   Hemanth.Kumar2@Sotc.in  ...                None             NO   \n",
      "8     Amit.Kapoor2@Sotc.in  ...                None             NO   \n",
      "9      Sachin.Goel@sotc.in  ...                  ok             NO   \n",
      "\n",
      "  APP_LOGIN_DATE PAN_CARD_NO LAND_SALE_VALUE AIR_SALE_VALUE  \\\n",
      "0                 FDAPS1172K         10000.0           10.0   \n",
      "1                 ADOPD6384M         40000.0           10.0   \n",
      "2                                    34798.0            0.0   \n",
      "3                                    95220.0        50260.0   \n",
      "4                 AACCF3972H        150000.0         1000.0   \n",
      "5                 AJJPJ0756G         60000.0            0.0   \n",
      "6                 AACPB4058P          5000.0            1.0   \n",
      "7                 ADYPN9805F        500000.0           10.0   \n",
      "8                 afmps6066f         50000.0            0.0   \n",
      "9                 AFGPB4756D             1.0            1.0   \n",
      "\n",
      "  Actual Invoiced value (Net Value)  - INR Discount amount (GIT + FIT) - INR  \\\n",
      "0                                      NaN                               NaN   \n",
      "1                                      NaN                               NaN   \n",
      "2                                  61706.0                            2000.0   \n",
      "3                                 201912.0                            4000.0   \n",
      "4                                      NaN                               NaN   \n",
      "5                                      NaN                               NaN   \n",
      "6                                   1430.0                               NaN   \n",
      "7                                      1.0                               NaN   \n",
      "8                                      NaN                               NaN   \n",
      "9                                      NaN                               NaN   \n",
      "\n",
      "  TAX_AMOUNT ICONIC_FILE_NO  \n",
      "0       0.00     TF22003051  \n",
      "1       0.00     TF23000115  \n",
      "2    3085.30     TF23000208  \n",
      "3    7572.60     TF23000293  \n",
      "4       0.00           None  \n",
      "5       0.00     TF23001761  \n",
      "6     146.58           None  \n",
      "7       0.11           None  \n",
      "8       0.00           None  \n",
      "9       0.00           None  \n",
      "\n",
      "[10 rows x 54 columns]\n"
     ]
    }
   ],
   "source": [
    "# Convert the QvdTable to a Pandas DataFrame\n",
    "df = qvd_table.to_pandas()\n",
    "\n",
    "# Display the first few rows of the DataFrame\n",
    "print(df.head(10))"
   ]
  },
  {
   "cell_type": "code",
   "execution_count": 10,
   "id": "b72b508b-cccc-481f-baa4-43b1c9076a4c",
   "metadata": {},
   "outputs": [
    {
     "name": "stdout",
     "output_type": "stream",
     "text": [
      "<class 'pandas.core.frame.DataFrame'>\n",
      "RangeIndex: 105082 entries, 0 to 105081\n",
      "Data columns (total 54 columns):\n",
      " #   Column                                    Non-Null Count   Dtype  \n",
      "---  ------                                    --------------   -----  \n",
      " 0   BOOKING_FILE_NO                           105082 non-null  object \n",
      " 1   COMPANY_CODE                              105082 non-null  object \n",
      " 2   ZONE                                      105082 non-null  object \n",
      " 3   BRANCH                                    105082 non-null  object \n",
      " 4   BRANCH NAME                               105082 non-null  object \n",
      " 5   CITY                                      105082 non-null  object \n",
      " 6   ASTRA BOOKING                             105082 non-null  object \n",
      " 7   CREATED BY                                105082 non-null  object \n",
      " 8   OWNER_NAME                                105082 non-null  object \n",
      " 9   OWNER EMAIL ID                            105082 non-null  object \n",
      " 10  EMPLOYEE ID                               105082 non-null  object \n",
      " 11  BOOKING LEAD                              105082 non-null  object \n",
      " 12  AGENT                                     40278 non-null   object \n",
      " 13  REGION_CODE                               105082 non-null  object \n",
      " 14  REGION                                    105082 non-null  object \n",
      " 15  ITNY CODE                                 57386 non-null   object \n",
      " 16  ITIN CATEGORY                             57386 non-null   object \n",
      " 17  PRODUCT_NAME                              64651 non-null   object \n",
      " 18  ITINERARY_SUB_TYPE                        65584 non-null   object \n",
      " 19  BF NAME                                   105082 non-null  object \n",
      " 20  MOBILE_NO                                 105079 non-null  float64\n",
      " 21  PHONE_NO                                  86407 non-null   object \n",
      " 22  LT_PROD_CODE                              105082 non-null  object \n",
      " 23  FILE_TYPE                                 105082 non-null  object \n",
      " 24  FILE_SUB_TYPE                             105082 non-null  object \n",
      " 25  SUB_BUSINESS                              105082 non-null  object \n",
      " 26  MARKET                                    105082 non-null  object \n",
      " 27  TOUR_START_DATE                           105082 non-null  object \n",
      " 28  OPP ID                                    105067 non-null  object \n",
      " 29  Lead Source                               105082 non-null  object \n",
      " 30  FILE_DATE                                 105082 non-null  object \n",
      " 31  BAREA                                     105082 non-null  object \n",
      " 32  HUB                                       49289 non-null   object \n",
      " 33  BOOKING_STATUS                            105082 non-null  object \n",
      " 34  FILE_STATUS                               105082 non-null  object \n",
      " 35  NO_OF_ADULT                               105074 non-null  float64\n",
      " 36  NO_OF_CHILD                               105074 non-null  float64\n",
      " 37  NO_OF_INFANT                              105074 non-null  float64\n",
      " 38  TOTAL_PAX                                 105074 non-null  float64\n",
      " 39  Branch Profile Center Code                105082 non-null  int64  \n",
      " 40  Cancellation Request Date                 8054 non-null    float64\n",
      " 41  Cancellation Conf Date                    15618 non-null   float64\n",
      " 42  Cancellation Request By                   8054 non-null    object \n",
      " 43  Cancellation Conf BY                      15618 non-null   object \n",
      " 44  Cancellation Reason                       22631 non-null   object \n",
      " 45  App_Downloaded                            105082 non-null  object \n",
      " 46  APP_LOGIN_DATE                            105082 non-null  object \n",
      " 47  PAN_CARD_NO                               100410 non-null  object \n",
      " 48  LAND_SALE_VALUE                           105007 non-null  float64\n",
      " 49  AIR_SALE_VALUE                            104882 non-null  float64\n",
      " 50  Actual Invoiced value (Net Value)  - INR  94034 non-null   float64\n",
      " 51  Discount amount (GIT + FIT) - INR         49932 non-null   float64\n",
      " 52  TAX_AMOUNT                                88757 non-null   float64\n",
      " 53  ICONIC_FILE_NO                            13804 non-null   object \n",
      "dtypes: float64(12), int64(1), object(41)\n",
      "memory usage: 43.3+ MB\n"
     ]
    }
   ],
   "source": [
    "df.info()"
   ]
  },
  {
   "cell_type": "code",
   "execution_count": 11,
   "id": "98838ad4-829b-4eae-947c-a06dfb9b6b78",
   "metadata": {},
   "outputs": [],
   "source": [
    "import pandas as pd\n",
    "import seaborn as sns\n",
    "import matplotlib.pyplot as plt\n",
    "import plotly.graph_objects as go"
   ]
  },
  {
   "cell_type": "code",
   "execution_count": 20,
   "id": "c8a50dc3-f76e-498a-a471-63601299716b",
   "metadata": {},
   "outputs": [
    {
     "data": {
      "text/html": [
       "\n",
       "        <iframe\n",
       "            width=\"100%\"\n",
       "            height=\"650\"\n",
       "            src=\"http://127.0.0.1:8050/\"\n",
       "            frameborder=\"0\"\n",
       "            allowfullscreen\n",
       "            \n",
       "        ></iframe>\n",
       "        "
      ],
      "text/plain": [
       "<IPython.lib.display.IFrame at 0x260193d8860>"
      ]
     },
     "metadata": {},
     "output_type": "display_data"
    }
   ],
   "source": [
    "import pandas as pd\n",
    "import plotly.express as px\n",
    "import dash\n",
    "from dash import dcc, html, dash_table\n",
    "from dash.dependencies import Input, Output\n",
    "\n",
    "\n",
    "# Data Cleaning & Transformation\n",
    "df = df.dropna(subset=['AIR_SALE_VALUE', 'LAND_SALE_VALUE'])  # Remove missing values\n",
    "df['Total_Sale_Value'] = df['AIR_SALE_VALUE'] + df['LAND_SALE_VALUE']\n",
    "\n",
    "# Convert Dates\n",
    "df['TOUR_START_DATE'] = pd.to_datetime(df['TOUR_START_DATE'], errors='coerce')\n",
    "\n",
    "# Extract Month from TOUR_START_DATE\n",
    "df['TOUR_MONTH'] = df['TOUR_START_DATE'].dt.strftime('%Y-%m')  # Format as \"YYYY-MM\"\n",
    "\n",
    "# Unique values for filters\n",
    "zone_options = [{'label': zone, 'value': zone} for zone in df['ZONE'].unique()]\n",
    "branch_options = [{'label': branch, 'value': branch} for branch in df['BRANCH NAME'].unique()]\n",
    "month_options = [{'label': month, 'value': month} for month in df['TOUR_MONTH'].dropna().unique()]\n",
    "\n",
    "# Initialize Dash App\n",
    "app = dash.Dash(__name__)\n",
    "\n",
    "# Layout\n",
    "app.layout = html.Div([\n",
    "    html.H1(\"Booking Dashboard 2\", style={'textAlign': 'center'}),\n",
    "\n",
    "    # Filters\n",
    "    html.Div([\n",
    "        html.Label(\"Select Zone:\"),\n",
    "        dcc.Dropdown(id='zone-filter', options=zone_options, value=None, clearable=True),\n",
    "        \n",
    "        html.Label(\"Select Branch:\"),\n",
    "        dcc.Dropdown(id='branch-filter', options=branch_options, value=None, clearable=True),\n",
    "\n",
    "        html.Label(\"Select Month:\"),\n",
    "        dcc.Dropdown(id='month-filter', options=month_options, value=None, clearable=True),\n",
    "\n",
    "    ], style={'display': 'flex', 'justifyContent': 'space-around', 'margin': '20px 0'}),\n",
    "\n",
    "    # Summary Cards\n",
    "    html.Div(id='summary-cards', style={'display': 'flex', 'justifyContent': 'space-around', 'margin': '20px 0'}),\n",
    "\n",
    "    # Monthly Booking Trends\n",
    "    dcc.Graph(id='monthly-booking-trends'),\n",
    "\n",
    "    # Revenue by Month\n",
    "    dcc.Graph(id='revenue-by-month'),\n",
    "\n",
    "    # Booking Status Trends\n",
    "    dcc.Graph(id='booking-trends'),\n",
    "])\n",
    "\n",
    "# Callback to update dashboard based on filters\n",
    "@app.callback(\n",
    "    [Output('summary-cards', 'children'),\n",
    "     Output('monthly-booking-trends', 'figure'),\n",
    "     Output('revenue-by-month', 'figure'),\n",
    "     Output('booking-trends', 'figure')],\n",
    "    [Input('zone-filter', 'value'),\n",
    "     Input('branch-filter', 'value'),\n",
    "     Input('month-filter', 'value')]\n",
    ")\n",
    "def update_dashboard(selected_zone, selected_branch, selected_month):\n",
    "    # Filter dataset\n",
    "    filtered_df = df.copy()\n",
    "    if selected_zone:\n",
    "        filtered_df = filtered_df[filtered_df['ZONE'] == selected_zone]\n",
    "    if selected_branch:\n",
    "        filtered_df = filtered_df[filtered_df['BRANCH NAME'] == selected_branch]\n",
    "    if selected_month:\n",
    "        filtered_df = filtered_df[filtered_df['TOUR_MONTH'] == selected_month]\n",
    "\n",
    "    # Summary Stats\n",
    "    total_bookings = filtered_df.shape[0]\n",
    "    total_revenue = filtered_df['Total_Sale_Value'].sum()\n",
    "    avg_sale_value = filtered_df['Total_Sale_Value'].mean()\n",
    "\n",
    "    summary_cards = html.Div([\n",
    "        html.Div([\n",
    "            html.H3(\"Total Bookings\"),\n",
    "            html.P(f\"{total_bookings:,}\")\n",
    "        ], style={'display': 'inline-block', 'width': '30%', 'textAlign': 'center'}),\n",
    "\n",
    "        html.Div([\n",
    "            html.H3(\"Total Revenue (INR)\"),\n",
    "            html.P(f\"{total_revenue:,.2f}\")\n",
    "        ], style={'display': 'inline-block', 'width': '30%', 'textAlign': 'center'}),\n",
    "\n",
    "        html.Div([\n",
    "            html.H3(\"Average Sale Value (INR)\"),\n",
    "            html.P(f\"{avg_sale_value:,.2f}\")\n",
    "        ], style={'display': 'inline-block', 'width': '30%', 'textAlign': 'center'}),\n",
    "    ])\n",
    "\n",
    "    # Monthly Booking Trends\n",
    "    monthly_booking_trends = px.line(filtered_df.groupby('TOUR_MONTH')['Total_Sale_Value'].sum().reset_index(),\n",
    "                                     x='TOUR_MONTH', y='Total_Sale_Value', \n",
    "                                     title=\"Monthly Booking Trends\")\n",
    "\n",
    "    # Revenue by Month\n",
    "    revenue_by_month = px.bar(filtered_df.groupby('TOUR_MONTH')['Total_Sale_Value'].sum().reset_index(),\n",
    "                              x='TOUR_MONTH', y='Total_Sale_Value',\n",
    "                              title=\"Revenue by Month\")\n",
    "\n",
    "\n",
    "    # Booking & Cancellation Trends\n",
    "    booking_trends = px.line(filtered_df.groupby('TOUR_START_DATE')['Total_Sale_Value'].sum().reset_index(),\n",
    "                             x='TOUR_START_DATE', y='Total_Sale_Value', title=\"Booking Trends Over Time\")\n",
    "\n",
    "    return summary_cards, monthly_booking_trends, revenue_by_month, booking_trends\n",
    "\n",
    "# Run the Dashboard\n",
    "if __name__ == '__main__':\n",
    "    app.run_server(debug=True)\n",
    "    "
   ]
  },
  {
   "cell_type": "code",
   "execution_count": 22,
   "id": "8a5f42d3-67b6-402a-893b-828c7d362457",
   "metadata": {},
   "outputs": [
    {
     "name": "stdout",
     "output_type": "stream",
     "text": [
      "Note: you may need to restart the kernel to use updated packages.\n"
     ]
    }
   ],
   "source": [
    "pip freeze > requirements.txt"
   ]
  },
  {
   "cell_type": "code",
   "execution_count": null,
   "id": "1986401c-f07f-4b9d-8fa8-7d4118f5b45a",
   "metadata": {},
   "outputs": [],
   "source": []
  }
 ],
 "metadata": {
  "kernelspec": {
   "display_name": "Python [conda env:base] *",
   "language": "python",
   "name": "conda-base-py"
  },
  "language_info": {
   "codemirror_mode": {
    "name": "ipython",
    "version": 3
   },
   "file_extension": ".py",
   "mimetype": "text/x-python",
   "name": "python",
   "nbconvert_exporter": "python",
   "pygments_lexer": "ipython3",
   "version": "3.12.7"
  }
 },
 "nbformat": 4,
 "nbformat_minor": 5
}
